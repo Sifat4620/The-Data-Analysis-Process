{
 "cells": [
  {
   "cell_type": "code",
   "execution_count": 3,
   "id": "0f24703b",
   "metadata": {},
   "outputs": [],
   "source": [
    "import pandas as pd\n",
    "import requests\n",
    "from bs4 import BeautifulSoup"
   ]
  },
  {
   "cell_type": "code",
   "execution_count": 8,
   "id": "fab3d686",
   "metadata": {},
   "outputs": [],
   "source": [
    "headers = {'User-Agent': 'Mozilla/5.0 (Windows NT 6.3; Win64; x64)AppleWebKit/537.36 (KHTML, like Gecko) Chrome/80.0.3987.162 Safari/537.36'}\n",
    "webpage= requests.get('https://www.ambitionbox.com/list-of-companies?campaign=desktop_nav',headers=headers).text"
   ]
  },
  {
   "cell_type": "code",
   "execution_count": 12,
   "id": "41b94784",
   "metadata": {},
   "outputs": [],
   "source": [
    "soup=BeautifulSoup(webpage,'lxml')"
   ]
  },
  {
   "cell_type": "code",
   "execution_count": 15,
   "id": "482e96e6",
   "metadata": {},
   "outputs": [],
   "source": [
    "##soup"
   ]
  },
  {
   "cell_type": "code",
   "execution_count": 16,
   "id": "6455025d",
   "metadata": {},
   "outputs": [],
   "source": [
    "##print(soup.prettify())"
   ]
  },
  {
   "cell_type": "code",
   "execution_count": 24,
   "id": "3c030ee3",
   "metadata": {},
   "outputs": [
    {
     "data": {
      "text/plain": [
       "'List of companies in India'"
      ]
     },
     "execution_count": 24,
     "metadata": {},
     "output_type": "execute_result"
    }
   ],
   "source": [
    "soup.find_all('h1')[0].text.strip()"
   ]
  },
  {
   "cell_type": "code",
   "execution_count": 26,
   "id": "070a243f",
   "metadata": {},
   "outputs": [
    {
     "name": "stdout",
     "output_type": "stream",
     "text": [
      "TCS\n",
      "Accenture\n",
      "Cognizant\n",
      "Wipro\n",
      "ICICI Bank\n",
      "HDFC Bank\n",
      "Infosys\n",
      "Capgemini\n",
      "Tech Mahindra\n",
      "HCLTech\n",
      "Genpact\n",
      "Axis Bank\n",
      "Concentrix Corporation\n",
      "Amazon\n",
      "Reliance Jio\n",
      "IBM\n",
      "Larsen & Toubro Limited\n",
      "Reliance Retail\n",
      "HDB Financial Services\n",
      "Teleperformance\n",
      "Companies by  Industry\n",
      "Companies by  Locations\n",
      "Companies by  Type\n",
      "Companies by  Badges\n"
     ]
    }
   ],
   "source": [
    "for i in soup.find_all('h2'):\n",
    "        print(i.text.strip())"
   ]
  },
  {
   "cell_type": "code",
   "execution_count": 47,
   "id": "5a0e66e6",
   "metadata": {},
   "outputs": [
    {
     "name": "stdout",
     "output_type": "stream",
     "text": [
      "3.8\n",
      "4.1\n",
      "3.9\n",
      "3.8\n",
      "4.0\n",
      "3.9\n",
      "3.9\n",
      "3.9\n",
      "3.7\n",
      "3.7\n",
      "4.0\n",
      "3.8\n",
      "3.9\n",
      "4.2\n",
      "3.9\n",
      "4.1\n",
      "4.0\n",
      "3.9\n",
      "4.0\n",
      "3.6\n"
     ]
    }
   ],
   "source": [
    "for i in soup.find_all('span',class_='companyCardWrapper__companyRatingValue'):\n",
    "      print(i.text.strip())"
   ]
  },
  {
   "cell_type": "code",
   "execution_count": 71,
   "id": "40610214",
   "metadata": {},
   "outputs": [],
   "source": [
    "### we will  fatch all company name : \n",
    "name =[]\n",
    "rating=[]\n",
    "company=soup.find_all('div', class_= 'companyCardWrapper__primaryInformation')\n",
    "for i in company:   \n",
    "    name.append(i.find('h2').text.strip())\n",
    "    rating.append(i.find('span',class_='companyCardWrapper__companyRatingValue').text.strip())\n",
    "df= {'name':name,'rating':rating}    "
   ]
  },
  {
   "cell_type": "code",
   "execution_count": 73,
   "id": "4815fe52",
   "metadata": {},
   "outputs": [],
   "source": [
    "import pandas as pd"
   ]
  },
  {
   "cell_type": "code",
   "execution_count": 74,
   "id": "366693f1",
   "metadata": {},
   "outputs": [],
   "source": [
    "df=pd.DataFrame(df)"
   ]
  },
  {
   "cell_type": "code",
   "execution_count": 75,
   "id": "50be80db",
   "metadata": {},
   "outputs": [
    {
     "data": {
      "text/html": [
       "<div>\n",
       "<style scoped>\n",
       "    .dataframe tbody tr th:only-of-type {\n",
       "        vertical-align: middle;\n",
       "    }\n",
       "\n",
       "    .dataframe tbody tr th {\n",
       "        vertical-align: top;\n",
       "    }\n",
       "\n",
       "    .dataframe thead th {\n",
       "        text-align: right;\n",
       "    }\n",
       "</style>\n",
       "<table border=\"1\" class=\"dataframe\">\n",
       "  <thead>\n",
       "    <tr style=\"text-align: right;\">\n",
       "      <th></th>\n",
       "      <th>name</th>\n",
       "      <th>rating</th>\n",
       "    </tr>\n",
       "  </thead>\n",
       "  <tbody>\n",
       "    <tr>\n",
       "      <th>0</th>\n",
       "      <td>TCS</td>\n",
       "      <td>3.8</td>\n",
       "    </tr>\n",
       "    <tr>\n",
       "      <th>1</th>\n",
       "      <td>Accenture</td>\n",
       "      <td>4.1</td>\n",
       "    </tr>\n",
       "    <tr>\n",
       "      <th>2</th>\n",
       "      <td>Cognizant</td>\n",
       "      <td>3.9</td>\n",
       "    </tr>\n",
       "    <tr>\n",
       "      <th>3</th>\n",
       "      <td>Wipro</td>\n",
       "      <td>3.8</td>\n",
       "    </tr>\n",
       "    <tr>\n",
       "      <th>4</th>\n",
       "      <td>ICICI Bank</td>\n",
       "      <td>4.0</td>\n",
       "    </tr>\n",
       "    <tr>\n",
       "      <th>5</th>\n",
       "      <td>HDFC Bank</td>\n",
       "      <td>3.9</td>\n",
       "    </tr>\n",
       "    <tr>\n",
       "      <th>6</th>\n",
       "      <td>Infosys</td>\n",
       "      <td>3.9</td>\n",
       "    </tr>\n",
       "    <tr>\n",
       "      <th>7</th>\n",
       "      <td>Capgemini</td>\n",
       "      <td>3.9</td>\n",
       "    </tr>\n",
       "    <tr>\n",
       "      <th>8</th>\n",
       "      <td>Tech Mahindra</td>\n",
       "      <td>3.7</td>\n",
       "    </tr>\n",
       "    <tr>\n",
       "      <th>9</th>\n",
       "      <td>HCLTech</td>\n",
       "      <td>3.7</td>\n",
       "    </tr>\n",
       "    <tr>\n",
       "      <th>10</th>\n",
       "      <td>Genpact</td>\n",
       "      <td>4.0</td>\n",
       "    </tr>\n",
       "    <tr>\n",
       "      <th>11</th>\n",
       "      <td>Axis Bank</td>\n",
       "      <td>3.8</td>\n",
       "    </tr>\n",
       "    <tr>\n",
       "      <th>12</th>\n",
       "      <td>Concentrix Corporation</td>\n",
       "      <td>3.9</td>\n",
       "    </tr>\n",
       "    <tr>\n",
       "      <th>13</th>\n",
       "      <td>Amazon</td>\n",
       "      <td>4.2</td>\n",
       "    </tr>\n",
       "    <tr>\n",
       "      <th>14</th>\n",
       "      <td>Reliance Jio</td>\n",
       "      <td>3.9</td>\n",
       "    </tr>\n",
       "    <tr>\n",
       "      <th>15</th>\n",
       "      <td>IBM</td>\n",
       "      <td>4.1</td>\n",
       "    </tr>\n",
       "    <tr>\n",
       "      <th>16</th>\n",
       "      <td>Larsen &amp; Toubro Limited</td>\n",
       "      <td>4.0</td>\n",
       "    </tr>\n",
       "    <tr>\n",
       "      <th>17</th>\n",
       "      <td>Reliance Retail</td>\n",
       "      <td>3.9</td>\n",
       "    </tr>\n",
       "    <tr>\n",
       "      <th>18</th>\n",
       "      <td>HDB Financial Services</td>\n",
       "      <td>4.0</td>\n",
       "    </tr>\n",
       "    <tr>\n",
       "      <th>19</th>\n",
       "      <td>Teleperformance</td>\n",
       "      <td>3.6</td>\n",
       "    </tr>\n",
       "  </tbody>\n",
       "</table>\n",
       "</div>"
      ],
      "text/plain": [
       "                       name rating\n",
       "0                       TCS    3.8\n",
       "1                 Accenture    4.1\n",
       "2                 Cognizant    3.9\n",
       "3                     Wipro    3.8\n",
       "4                ICICI Bank    4.0\n",
       "5                 HDFC Bank    3.9\n",
       "6                   Infosys    3.9\n",
       "7                 Capgemini    3.9\n",
       "8             Tech Mahindra    3.7\n",
       "9                   HCLTech    3.7\n",
       "10                  Genpact    4.0\n",
       "11                Axis Bank    3.8\n",
       "12   Concentrix Corporation    3.9\n",
       "13                   Amazon    4.2\n",
       "14             Reliance Jio    3.9\n",
       "15                      IBM    4.1\n",
       "16  Larsen & Toubro Limited    4.0\n",
       "17          Reliance Retail    3.9\n",
       "18   HDB Financial Services    4.0\n",
       "19          Teleperformance    3.6"
      ]
     },
     "execution_count": 75,
     "metadata": {},
     "output_type": "execute_result"
    }
   ],
   "source": [
    "df"
   ]
  },
  {
   "cell_type": "code",
   "execution_count": null,
   "id": "0395eb7a",
   "metadata": {},
   "outputs": [],
   "source": [
    "# ### main code all pages\n",
    "# final=pd.DataFrame()\n",
    "# for j in range(1,1001):\n",
    "#   webpage=requests.get('https://www.ambitionbox.com/list-of-companies?page={}'.format(j)).text\n",
    "#   soup=BeautifulSoup(webpage,'lxml')\n",
    "#   company=soup.find_all('div',class_='company-content-wrapper')\n",
    "#   name=[]\n",
    "#   rating=[]\n",
    "#   reviews=[]\n",
    "#   ctype=[]\n",
    "#   hq=[]\n",
    "#   how_old=[]\n",
    "#   no_of_employee=[]\n",
    "\n",
    "#   for i in company:\n",
    "\n",
    "#     try:\n",
    "#        name.append(i.find('h2').text.strip())\n",
    "#     except:\n",
    "#        name.append(np.nan)\n",
    "\n",
    "#     try:\n",
    "#        rating.append(i.find('p',class_='rating').text.strip())\n",
    "#     except:\n",
    "#        rating.append(np.nan)\n",
    "   \n",
    "#     try:\n",
    "\n",
    "#       reviews.append(i.find('a' , class_='review-count').text.strip())\n",
    "#     except:\n",
    "#       reviews.append(np.nan)\n",
    "\n",
    "#     try:\n",
    "\n",
    "#       ctype.append(i.find_all('p',class_='infoEntity')[0].text.strip())\n",
    "#     except:\n",
    "#       ctype.append(np.nan)\n",
    "#     try:\n",
    "\n",
    "#       hq.append(i.find_all('p',class_='infoEntity')[1].text.strip())\n",
    "#     except:\n",
    "#       hq.append(np.nan)\n",
    "    \n",
    "#     try:\n",
    "\n",
    "#       how_old.append(i.find_all('p',class_='infoEntity')[2].text.strip())\n",
    "#     except:\n",
    "#       how_old.append(np.nan)\n",
    "#     try:\n",
    "#       no_of_employee.append(i.find_all('p',class_='infoEntity')[3].text.strip())\n",
    "#     except:\n",
    "#       no_of_employee.append(np.nan)\n",
    "    \n",
    "\n",
    "#   df=pd.DataFrame({'name':name,\n",
    "#     'rating':rating,\n",
    "#     'reviews':reviews,\n",
    "#     'company_type':ctype,\n",
    "#     'Head_Quarters':hq,\n",
    "#     'Company_Age':how_old,\n",
    "#     'No_of_Employee':no_of_employee,\n",
    "#     })\n",
    "  \n",
    "#   final=final.append(df,ignore_index=True)\n",
    "\n"
   ]
  }
 ],
 "metadata": {
  "kernelspec": {
   "display_name": "Python 3 (ipykernel)",
   "language": "python",
   "name": "python3"
  },
  "language_info": {
   "codemirror_mode": {
    "name": "ipython",
    "version": 3
   },
   "file_extension": ".py",
   "mimetype": "text/x-python",
   "name": "python",
   "nbconvert_exporter": "python",
   "pygments_lexer": "ipython3",
   "version": "3.9.13"
  }
 },
 "nbformat": 4,
 "nbformat_minor": 5
}
