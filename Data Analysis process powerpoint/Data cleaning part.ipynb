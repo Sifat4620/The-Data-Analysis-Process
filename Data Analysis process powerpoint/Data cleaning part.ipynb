{
 "cells": [
  {
   "cell_type": "code",
   "execution_count": null,
   "id": "10f07ee0",
   "metadata": {},
   "outputs": [],
   "source": [
    "import pandas as pd\n",
    "\n",
    "# Load the raw data into a DataFrame (assuming it's in a CSV file)\n",
    "raw_data = pd.read_csv('raw_data.csv')\n",
    "\n",
    "# Step 2: Data Wrangling (Cleaning)\n",
    "\n",
    "# 2.1 Handling Missing Values\n",
    "# Check for missing values in the DataFrame\n",
    "missing_values = raw_data.isnull().sum()\n",
    "\n",
    "# Impute missing values with the mean for numeric columns\n",
    "raw_data['age'].fillna(raw_data['age'].mean(), inplace=True)\n",
    "\n",
    "# Drop rows with missing values in specific columns (e.g., 'product_id')\n",
    "raw_data.dropna(subset=['product_id'], inplace=True)\n",
    "\n",
    "# 2.2 Removing Duplicates\n",
    "# Check for duplicate rows\n",
    "duplicate_rows = raw_data.duplicated()\n",
    "\n",
    "# Remove duplicate rows\n",
    "raw_data = raw_data[~duplicate_rows]\n",
    "\n",
    "# 2.3 Data Type Conversion\n",
    "# Convert a column to a different data type (e.g., 'date' to datetime)\n",
    "raw_data['date'] = pd.to_datetime(raw_data['date'])\n",
    "\n",
    "# 2.4 Renaming Columns\n",
    "# Rename columns for clarity\n",
    "raw_data.rename(columns={'old_column_name': 'new_column_name'}, inplace=True)\n",
    "\n",
    "# After cleaning, you can save the cleaned data to a new CSV file\n",
    "raw_data.to_csv('cleaned_data.csv', index=False)\n"
   ]
  }
 ],
 "metadata": {
  "kernelspec": {
   "display_name": "Python 3 (ipykernel)",
   "language": "python",
   "name": "python3"
  },
  "language_info": {
   "codemirror_mode": {
    "name": "ipython",
    "version": 3
   },
   "file_extension": ".py",
   "mimetype": "text/x-python",
   "name": "python",
   "nbconvert_exporter": "python",
   "pygments_lexer": "ipython3",
   "version": "3.9.13"
  }
 },
 "nbformat": 4,
 "nbformat_minor": 5
}
